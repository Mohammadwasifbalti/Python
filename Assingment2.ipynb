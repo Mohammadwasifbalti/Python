{
 "cells": [
  {
   "cell_type": "code",
   "execution_count": 1,
   "metadata": {},
   "outputs": [
    {
     "name": "stdout",
     "output_type": "stream",
     "text": [
      "Enter your first subject no : 55\n",
      "Enter your second subject no : 60\n",
      "Enter your third subject no : 70\n",
      "Enter your fourth subject no : 69\n",
      "Enter your fifth subject no : 55\n",
      "Grade C\n"
     ]
    }
   ],
   "source": [
    "sub1 = int (input (\"Enter your first subject no : \"))\n",
    "sub2 = int (input (\"Enter your second subject no : \"))\n",
    "sub3 = int (input (\"Enter your third subject no : \"))\n",
    "sub4 = int (input (\"Enter your fourth subject no : \"))\n",
    "sub5 = int (input (\"Enter your fifth subject no : \"))\n",
    "avg = (sub1 + sub2 + sub3 + sub4 + sub5) / 5\n",
    "if(avg>=90):\n",
    "    print(\"Grade: A+\")\n",
    "elif(avg>=80):\n",
    "    print(\"Grade: A\")\n",
    "elif(avg>=70):\n",
    "    print(\"Grade B\")\n",
    "elif(avg>=60):\n",
    "    print(\"Grade C\")\n",
    "elif(avg>=50):\n",
    "    print(\"Grade D\")\n",
    "else:\n",
    "    print(\"Fail\")"
   ]
  },
  {
   "cell_type": "code",
   "execution_count": 2,
   "metadata": {},
   "outputs": [
    {
     "name": "stdout",
     "output_type": "stream",
     "text": [
      "Enter the num to Check it is even or odd 11\n",
      "Number is odd\n"
     ]
    }
   ],
   "source": [
    "a = int(input(\"Enter the num to Check it is even or odd \"))\n",
    "if(a%2==0):\n",
    "    print(\"Number is even\")\n",
    "else:\n",
    "    print(\"Number is odd\")"
   ]
  },
  {
   "cell_type": "code",
   "execution_count": 3,
   "metadata": {},
   "outputs": [
    {
     "name": "stdout",
     "output_type": "stream",
     "text": [
      "5\n"
     ]
    }
   ],
   "source": [
    "a=[1,50,8,77,100]\n",
    "print(len(a))"
   ]
  },
  {
   "cell_type": "code",
   "execution_count": 4,
   "metadata": {},
   "outputs": [
    {
     "name": "stdout",
     "output_type": "stream",
     "text": [
      "125\n"
     ]
    }
   ],
   "source": [
    "list=[10,20,67,28]\n",
    "list=sum(list)\n",
    "print(list)"
   ]
  },
  {
   "cell_type": "code",
   "execution_count": 5,
   "metadata": {},
   "outputs": [
    {
     "name": "stdout",
     "output_type": "stream",
     "text": [
      "1100 is the largest number\n"
     ]
    }
   ],
   "source": [
    "a=[1,2,3,4,510,890,780,1100,900]\n",
    "print(max(a),\"is the largest number\")"
   ]
  },
  {
   "cell_type": "code",
   "execution_count": 7,
   "metadata": {},
   "outputs": [
    {
     "name": "stdout",
     "output_type": "stream",
     "text": [
      "[1, 1, 2, 3]\n"
     ]
    }
   ],
   "source": [
    "list = [1, 1, 2, 3, 5, 8, 13, 21, 34, 55, 89]\n",
    "print(list[:4])"
   ]
  },
  {
   "cell_type": "code",
   "execution_count": null,
   "metadata": {},
   "outputs": [],
   "source": []
  }
 ],
 "metadata": {
  "kernelspec": {
   "display_name": "Python 3",
   "language": "python",
   "name": "python3"
  },
  "language_info": {
   "codemirror_mode": {
    "name": "ipython",
    "version": 3
   },
   "file_extension": ".py",
   "mimetype": "text/x-python",
   "name": "python",
   "nbconvert_exporter": "python",
   "pygments_lexer": "ipython3",
   "version": "3.6.7"
  }
 },
 "nbformat": 4,
 "nbformat_minor": 2
}
