{
 "cells": [
  {
   "cell_type": "code",
   "execution_count": 1,
   "metadata": {},
   "outputs": [
    {
     "name": "stdout",
     "output_type": "stream",
     "text": [
      "Enter the First Value : 10\n",
      "Enter the operator : *\n",
      "Enter the Second Value: 3\n",
      "10 * 3 = 30\n"
     ]
    }
   ],
   "source": [
    "num1= input(\"Enter the First Value : \") \n",
    "operator = input(\"Enter the operator : \")\n",
    "num2 = input(\"Enter the Second Value: \")\n",
    "\n",
    "num1= int(num1)\n",
    "num2 = int(num2)\n",
    "\n",
    "if operator == \"+\":\n",
    "    print(\"{} + {} = {}\".format(num1,num2, num1+num2))\n",
    "elif operator == \"-\":\n",
    "    print(\"{} - {} = {}\".format(num1,num2, num1-num2))\n",
    "elif operator == \"*\":\n",
    "    print(\"{} * {} = {}\".format(num1,num2, num1*num2))\n",
    "elif operator == \"/\":\n",
    "    print(\"{} / {} = {}\".format(num1,num2, num1/num2))\n",
    "elif operator == \"**\":\n",
    "    print(\"{} power of {} = {}\".format(num1,num2, num1**num2))\n",
    "else:\n",
    "    print(\"Syntax error\")"
   ]
  },
  {
   "cell_type": "code",
   "execution_count": 2,
   "metadata": {},
   "outputs": [
    {
     "name": "stdout",
     "output_type": "stream",
     "text": [
      "Present,  value = 200\n",
      "Not present\n"
     ]
    }
   ],
   "source": [
    "def checkKey(dict, key): \n",
    "    if key in dict:\n",
    "        print(\"Present, \", end =\" \") \n",
    "        print(\"value =\", dict[key]) \n",
    "    else: \n",
    "        print(\"Not present\") \n",
    "  \n",
    "# Driver Code \n",
    "dic = {'a': 100, 'b':200, 'c':300} \n",
    "  \n",
    "key = 'b'\n",
    "checkKey(dic, key) \n",
    "  \n",
    "key = 'w'\n",
    "checkKey(dic, key)"
   ]
  },
  {
   "cell_type": "code",
   "execution_count": 3,
   "metadata": {},
   "outputs": [
    {
     "name": "stdout",
     "output_type": "stream",
     "text": [
      "No numeric value\n",
      "No numeric value\n",
      "No numeric value\n",
      "No numeric value\n",
      "Int is present\n",
      "Int is present\n",
      "Int is present\n"
     ]
    }
   ],
   "source": [
    "a = [\"a\",\"b\",\"c\",\"d\",34,34,34.5]\n",
    "for i in a:\n",
    "    try:\n",
    "        if(i.isalpha):\n",
    "            print(\"No numeric value\")\n",
    "        else:\n",
    "            print(\"numeric value present.\")\n",
    "    except AttributeError:\n",
    "        print(\"Int is present\")"
   ]
  },
  {
   "cell_type": "code",
   "execution_count": 4,
   "metadata": {},
   "outputs": [
    {
     "name": "stdout",
     "output_type": "stream",
     "text": [
      "Current Dict is:  {'key1': 'geeks', 'key2': 'fill_me'}\n",
      "Updated Dict is:  {'key1': 'geeks', 'key2': 'fill_me', 'key3': 'geeks'}\n"
     ]
    }
   ],
   "source": [
    "dic = {'key1':'geeks', 'key2':'fill_me'} \n",
    "print(\"Current Dict is: \", dic)\n",
    "dic['key3'] = 'geeks'\n",
    "print(\"Updated Dict is: \", dic)"
   ]
  },
  {
   "cell_type": "code",
   "execution_count": 5,
   "metadata": {},
   "outputs": [
    {
     "name": "stdout",
     "output_type": "stream",
     "text": [
      "Total sum of values in the dictionary:\n",
      "1279\n"
     ]
    }
   ],
   "source": [
    "list={'A':100,'B':540,'C':239, 'D': 400}\n",
    "print(\"Total sum of values in the dictionary:\")\n",
    "print(sum(list.values()))"
   ]
  },
  {
   "cell_type": "code",
   "execution_count": 6,
   "metadata": {},
   "outputs": [
    {
     "name": "stdout",
     "output_type": "stream",
     "text": [
      "[20, 30, -20, 60]\n"
     ]
    }
   ],
   "source": [
    "def CheckRepeat(x): \n",
    "    _size = len(x) \n",
    "    repeated = [] \n",
    "    for i in range(_size): \n",
    "        k = i + 1\n",
    "        for j in range(k, _size): \n",
    "            if x[i] == x[j] and x[i] not in repeated: \n",
    "                repeated.append(x[i]) \n",
    "    return repeated \n",
    "  \n",
    "# Driver Code \n",
    "list = [10, 20, 30, 20, 20, 30, 40,  \n",
    "         50, -20, 60, 60, -20, -20] \n",
    "print (CheckRepeat(list))"
   ]
  },
  {
   "cell_type": "code",
   "execution_count": null,
   "metadata": {},
   "outputs": [],
   "source": []
  }
 ],
 "metadata": {
  "kernelspec": {
   "display_name": "Python 3",
   "language": "python",
   "name": "python3"
  },
  "language_info": {
   "codemirror_mode": {
    "name": "ipython",
    "version": 3
   },
   "file_extension": ".py",
   "mimetype": "text/x-python",
   "name": "python",
   "nbconvert_exporter": "python",
   "pygments_lexer": "ipython3",
   "version": "3.6.7"
  }
 },
 "nbformat": 4,
 "nbformat_minor": 2
}
